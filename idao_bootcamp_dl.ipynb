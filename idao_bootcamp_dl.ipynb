{
 "cells": [
  {
   "cell_type": "markdown",
   "metadata": {},
   "source": [
    "# IDAO bootcamp deep leanning\n",
    "\n",
    "### Plans for this notebook:\n",
    "\n",
    "1. Quick introduction in deep learning\n",
    "2. **Pytorch** basics\n",
    "3. Some details about learning pipeline\n",
    "4. Build and apply simple fully connected nural network\n",
    "5. Introduction to conv nets\n",
    "6. Build and apply simple convolutional nural network\n",
    "7. Discuss some other applications of DL\n",
    "\n",
    "\n",
    "\n",
    "##### This notebook is strongly based on materials from: https://github.com/hse-ds/iad-deep-learning"
   ]
  },
  {
   "cell_type": "markdown",
   "metadata": {},
   "source": [
    "# 1. Quick introduction in deep learning [mini-presentation](https://docs.google.com/presentation/d/1cc9n11O6I_18bunhgw8qfuJ7kp2ITD9hfIZsp_8lpJA/edit?usp=sharing)"
   ]
  },
  {
   "cell_type": "markdown",
   "metadata": {},
   "source": [
    "# 2. Pytorch high level basics"
   ]
  },
  {
   "cell_type": "markdown",
   "metadata": {},
   "source": [
    "#### 0. Set up enviroment if needed"
   ]
  },
  {
   "cell_type": "code",
   "execution_count": null,
   "metadata": {},
   "outputs": [],
   "source": [
    "#!pip install pytorch\n",
    "#!pip install numpy\n",
    "#!pip install sklearn\n",
    "#!pip install tqdm\n",
    "#!pip install matplotlib"
   ]
  },
  {
   "cell_type": "markdown",
   "metadata": {},
   "source": [
    "#### 1. Remembering numpy"
   ]
  },
  {
   "cell_type": "code",
   "execution_count": 2,
   "metadata": {},
   "outputs": [],
   "source": [
    "import numpy as np"
   ]
  },
  {
   "cell_type": "code",
   "execution_count": 3,
   "metadata": {},
   "outputs": [
    {
     "data": {
      "text/plain": [
       "array([[0.2061241 , 0.78506975, 0.585748  ],\n",
       "       [0.19279646, 0.16249902, 0.67204348],\n",
       "       [0.59275836, 0.06200312, 0.82422872],\n",
       "       [0.58999193, 0.02229635, 0.62762062],\n",
       "       [0.51522145, 0.87069457, 0.52211442]])"
      ]
     },
     "execution_count": 3,
     "metadata": {},
     "output_type": "execute_result"
    }
   ],
   "source": [
    "# random matrix\n",
    "a = np.random.rand(5, 3)\n",
    "a"
   ]
  },
  {
   "cell_type": "code",
   "execution_count": 4,
   "metadata": {},
   "outputs": [
    {
     "name": "stdout",
     "output_type": "stream",
     "text": [
      "Shape: (5, 3)\n"
     ]
    }
   ],
   "source": [
    "print(f\"Shape: {a.shape}\")"
   ]
  },
  {
   "cell_type": "code",
   "execution_count": 5,
   "metadata": {},
   "outputs": [
    {
     "name": "stdout",
     "output_type": "stream",
     "text": [
      "Add 5:\n",
      "[[5.2061241  5.78506975 5.585748  ]\n",
      " [5.19279646 5.16249902 5.67204348]\n",
      " [5.59275836 5.06200312 5.82422872]\n",
      " [5.58999193 5.02229635 5.62762062]\n",
      " [5.51522145 5.87069457 5.52211442]]\n"
     ]
    }
   ],
   "source": [
    "print(f\"Add 5:\\n{a + 5}\")"
   ]
  },
  {
   "cell_type": "code",
   "execution_count": 6,
   "metadata": {},
   "outputs": [
    {
     "name": "stdout",
     "output_type": "stream",
     "text": [
      "Matrix product X X^T:\n",
      "[[1.00192237 0.56096118 0.65364888 0.50674327 1.095583  ]\n",
      " [0.56096118 0.51521884 0.67827469 0.53915983 0.59170348]\n",
      " [0.65364888 0.67827469 1.03455984 0.86840803 0.7897293 ]\n",
      " [0.50674327 0.53915983 0.86840803 0.74249525 0.65107958]\n",
      " [1.095583   0.59170348 0.7897293  0.65107958 1.29616565]]\n"
     ]
    }
   ],
   "source": [
    "print(f\"Matrix product X X^T:\\n{a @ a.T}\")"
   ]
  },
  {
   "cell_type": "code",
   "execution_count": 7,
   "metadata": {},
   "outputs": [
    {
     "name": "stdout",
     "output_type": "stream",
     "text": [
      "Column mean:\n",
      "[0.52564728 0.34244632 0.49299673 0.41330297 0.63601015]\n"
     ]
    }
   ],
   "source": [
    "print(f\"Column mean:\\n{a.mean(axis=-1)}\")"
   ]
  },
  {
   "cell_type": "code",
   "execution_count": 8,
   "metadata": {},
   "outputs": [
    {
     "name": "stdout",
     "output_type": "stream",
     "text": [
      "Change shape: (3, 5)\n"
     ]
    }
   ],
   "source": [
    "print(f\"Change shape: {a.reshape(3, 5).shape}\")"
   ]
  },
  {
   "cell_type": "code",
   "execution_count": 9,
   "metadata": {},
   "outputs": [],
   "source": [
    "## Some task here"
   ]
  },
  {
   "cell_type": "markdown",
   "metadata": {},
   "source": [
    "#### 2. Lets do the same with pytorch"
   ]
  },
  {
   "cell_type": "code",
   "execution_count": 10,
   "metadata": {},
   "outputs": [
    {
     "name": "stdout",
     "output_type": "stream",
     "text": [
      "1.10.0+cu102\n"
     ]
    }
   ],
   "source": [
    "import torch\n",
    "import torch.nn.functional as F\n",
    "print(torch.__version__)"
   ]
  },
  {
   "cell_type": "code",
   "execution_count": 11,
   "metadata": {},
   "outputs": [
    {
     "data": {
      "text/plain": [
       "tensor([[0.5716, 0.9661, 0.0677],\n",
       "        [0.5499, 0.4016, 0.9498],\n",
       "        [0.1201, 0.6171, 0.9832],\n",
       "        [0.9185, 0.9497, 0.9300],\n",
       "        [0.3988, 0.8558, 0.5166]])"
      ]
     },
     "execution_count": 11,
     "metadata": {},
     "output_type": "execute_result"
    }
   ],
   "source": [
    "x = torch.rand(5, 3)\n",
    "x"
   ]
  },
  {
   "cell_type": "code",
   "execution_count": 12,
   "metadata": {},
   "outputs": [
    {
     "name": "stdout",
     "output_type": "stream",
     "text": [
      "Shape: torch.Size([5, 3])\n"
     ]
    }
   ],
   "source": [
    "print(f\"Shape: {x.shape}\")"
   ]
  },
  {
   "cell_type": "code",
   "execution_count": 13,
   "metadata": {},
   "outputs": [
    {
     "name": "stdout",
     "output_type": "stream",
     "text": [
      "Add 5:\n",
      "tensor([[5.5716, 5.9661, 5.0677],\n",
      "        [5.5499, 5.4016, 5.9498],\n",
      "        [5.1201, 5.6171, 5.9832],\n",
      "        [5.9185, 5.9497, 5.9300],\n",
      "        [5.3988, 5.8558, 5.5166]])\n"
     ]
    }
   ],
   "source": [
    "print(f\"Add 5:\\n{x + 5}\")"
   ]
  },
  {
   "cell_type": "code",
   "execution_count": 14,
   "metadata": {},
   "outputs": [
    {
     "name": "stdout",
     "output_type": "stream",
     "text": [
      "X X^T  (1):\n",
      "tensor([[1.2647, 0.7666, 0.7314, 1.5055, 1.0898],\n",
      "        [0.7666, 1.3658, 1.2476, 1.7698, 1.0536],\n",
      "        [0.7314, 1.2476, 1.3618, 1.6107, 1.0839],\n",
      "        [1.5055, 1.7698, 1.6107, 2.6105, 1.6595],\n",
      "        [1.0898, 1.0536, 1.0839, 1.6595, 1.1583]])\n",
      "\n",
      "X X^T  (2):\n",
      "tensor([[1.2647, 0.7666, 0.7314, 1.5055, 1.0898],\n",
      "        [0.7666, 1.3658, 1.2476, 1.7698, 1.0536],\n",
      "        [0.7314, 1.2476, 1.3618, 1.6107, 1.0839],\n",
      "        [1.5055, 1.7698, 1.6107, 2.6105, 1.6595],\n",
      "        [1.0898, 1.0536, 1.0839, 1.6595, 1.1583]])\n"
     ]
    }
   ],
   "source": [
    "# torch.mm, torch.matmul, torch.bmm, @\n",
    "print(f\"X X^T  (1):\\n{torch.matmul(x, x.transpose(1, 0))}\\n\")\n",
    "print(f\"X X^T  (2):\\n{x.mm(x.t())}\")"
   ]
  },
  {
   "cell_type": "code",
   "execution_count": 15,
   "metadata": {},
   "outputs": [
    {
     "name": "stdout",
     "output_type": "stream",
     "text": [
      "Column mean:\n",
      "tensor([0.5351, 0.6338, 0.5734, 0.9327, 0.5904])\n"
     ]
    }
   ],
   "source": [
    "print(f\"Column mean:\\n{x.mean(dim=-1)}\")"
   ]
  },
  {
   "cell_type": "code",
   "execution_count": 16,
   "metadata": {},
   "outputs": [
    {
     "name": "stdout",
     "output_type": "stream",
     "text": [
      "Change shape:\n",
      "torch.Size([3, 5])\n",
      "\n"
     ]
    }
   ],
   "source": [
    "print(f\"Change shape:\\n{x.reshape([3, 5]).shape}\\n\")"
   ]
  },
  {
   "cell_type": "markdown",
   "metadata": {},
   "source": [
    "Some examples how operations changes:\n",
    "\n",
    "* `x.reshape([1,2,8]) -> x.view(1,2,8)`\n",
    "\n",
    "* `x.sum(axis=-1) -> x.sum(dim=-1)`\n",
    "\n",
    "* `x.astype(\"int64\") -> x.type(torch.LongTensor)`\n",
    "\n",
    "More such examples you can find [here](https://github.com/torch/torch7/wiki/Torch-for-Numpy-users)\n"
   ]
  },
  {
   "cell_type": "code",
   "execution_count": 17,
   "metadata": {},
   "outputs": [],
   "source": [
    "# Some task on pytorch here"
   ]
  },
  {
   "cell_type": "markdown",
   "metadata": {},
   "source": [
    "#### 2. Basics of pytorch gradients"
   ]
  },
  {
   "cell_type": "code",
   "execution_count": 19,
   "metadata": {},
   "outputs": [
    {
     "data": {
      "image/png": "[encoded data removed]",
      "text/plain": [
       "<Figure size 432x288 with 1 Axes>"
      ]
     },
     "metadata": {
      "needs_background": "light"
     },
     "output_type": "display_data"
    }
   ],
   "source": [
    "from sklearn.datasets import load_boston\n",
    "import matplotlib.pyplot as plt\n",
    "\n",
    "boston = load_boston()\n",
    "plt.scatter(boston.data[:, -1], boston.target);"
   ]
  },
  {
   "attachments": {
    "torch_grad.png": {
     "image/png": "[encoded data removed]"
    }
   },
   "cell_type": "markdown",
   "metadata": {},
   "source": [
    "![torch_grad.png](attachment:torch_grad.png)"
   ]
  },
  {
   "cell_type": "code",
   "execution_count": 20,
   "metadata": {},
   "outputs": [],
   "source": [
    "# Lets create tensors with \"requires_grad=True\", which means that we want to calculate gradietnts for this tensor\n",
    "w = torch.rand(1, requires_grad=True)\n",
    "b = torch.rand(1, requires_grad=True)\n",
    "\n",
    "x = torch.tensor(boston.data[:, -1] / boston.data[:, -1].max(), dtype=torch.float32)\n",
    "y = torch.tensor(boston.target, dtype=torch.float32)\n",
    "\n",
    "assert w.grad is None\n",
    "assert b.grad is None"
   ]
  },
  {
   "cell_type": "code",
   "execution_count": 21,
   "metadata": {},
   "outputs": [
    {
     "name": "stdout",
     "output_type": "stream",
     "text": [
      "dL/dw = \n",
      " tensor([-11.9072])\n",
      "dL/db = \n",
      " tensor([-43.4603])\n"
     ]
    }
   ],
   "source": [
    "y_pred = w * x + b                    # make some operations\n",
    "loss = torch.mean((y_pred - y) ** 2)  # make some operations\n",
    "loss.backward()                       # calculate gradients with \".backward()\"\n",
    "\n",
    "# No we can see gradients\n",
    "assert w.grad is not None\n",
    "assert b.grad is not None\n",
    "\n",
    "print(\"dL/dw = \\n\", w.grad)\n",
    "print(\"dL/db = \\n\", b.grad)"
   ]
  },
  {
   "cell_type": "code",
   "execution_count": 22,
   "metadata": {},
   "outputs": [
    {
     "data": {
      "image/png": "[encoded data removed]",
      "text/plain": [
       "<Figure size 720x576 with 1 Axes>"
      ]
     },
     "metadata": {
      "needs_background": "light"
     },
     "output_type": "display_data"
    },
    {
     "name": "stdout",
     "output_type": "stream",
     "text": [
      "loss =  48.26631\n"
     ]
    }
   ],
   "source": [
    "from IPython.display import clear_output\n",
    "\n",
    "for i in range(300):\n",
    "    y_pred = w * x + b\n",
    "\n",
    "    loss = torch.mean((y_pred - y)**2)\n",
    "    loss.backward()\n",
    "\n",
    "    # make a step\n",
    "    w.data -=  0.05 * w.grad\n",
    "    b.data -=  0.05 * b.grad\n",
    "\n",
    "    # zero gradients\n",
    "    w.grad.data.zero_()\n",
    "    b.grad.data.zero_()\n",
    "\n",
    "    # рисуем картинки\n",
    "    if (i + 1) % 5 == 0:\n",
    "        clear_output(True)\n",
    "        plt.figure(figsize=(10,8))\n",
    "        plt.scatter(x.data.numpy(), y.data.numpy(), label=\"data\")\n",
    "        plt.scatter(x.data.numpy(), y_pred.data.numpy(),\n",
    "                    color=\"orange\", linewidth=5, label=\"predictions\")\n",
    "        plt.xlabel(\"LSTAT\", fontsize=14)\n",
    "        plt.ylabel(\"MEDV (target)\", fontsize=14)\n",
    "        plt.title(\"Boston modelling\", fontsize=18)\n",
    "        plt.legend(fontsize=14)\n",
    "        plt.show()\n",
    "\n",
    "        print(\"loss = \", loss.data.numpy())\n",
    "        if loss.data.numpy() < 0.1:\n",
    "            print(\"Done!\")\n",
    "            break\n"
   ]
  },
  {
   "cell_type": "markdown",
   "metadata": {},
   "source": [
    "### 4. Some details about learning pipeline\n",
    "\n",
    "Before build your neural network, you need to think about how to train it. Firstly, you need to implement batching of your dataset"
   ]
  },
  {
   "cell_type": "markdown",
   "metadata": {},
   "source": []
  },
  {
   "cell_type": "markdown",
   "metadata": {},
   "source": [
    "In order in this framework to be able to iterate over the data you need to create your own class inherited from `torch.utils.data.Dataset`.\n",
    "\n",
    "\n",
    "You **need to implement** who methods: \n",
    "\n",
    "* `__len__` -- returns information about how many objects we have in the dataset\n",
    "* `__getitem__` -- returns the sample and the target to it\n",
    "\n",
    "\n",
    "Now let's write one ourselves, generate random data as a dataset."
   ]
  },
  {
   "cell_type": "code",
   "execution_count": 23,
   "metadata": {},
   "outputs": [],
   "source": [
    "class RandomDataset(torch.utils.data.Dataset):\n",
    "    \"\"\"\n",
    "    Our random dataset\n",
    "    \"\"\"\n",
    "    def __init__(self, x, y):\n",
    "        self.x = x\n",
    "        self.y = y\n",
    "        \n",
    "    def __len__(self):\n",
    "        return len(self.x)\n",
    "    \n",
    "    def __getitem__(self, idx):\n",
    "        return {\"sample\": torch.tensor(x[idx, :], dtype=torch.float), \"target\": y[idx]}"
   ]
  },
  {
   "cell_type": "code",
   "execution_count": 24,
   "metadata": {},
   "outputs": [],
   "source": [
    "x = np.random.rand(1000, 5)\n",
    "y = np.random.rand(1000)"
   ]
  },
  {
   "cell_type": "code",
   "execution_count": 25,
   "metadata": {},
   "outputs": [],
   "source": [
    "our_dataset = RandomDataset(x, y)"
   ]
  },
  {
   "cell_type": "code",
   "execution_count": 26,
   "metadata": {},
   "outputs": [
    {
     "data": {
      "text/plain": [
       "{'sample': tensor([0.6823, 0.0323, 0.6258, 0.2011, 0.8104]),\n",
       " 'target': 0.03455779961576455}"
      ]
     },
     "execution_count": 26,
     "metadata": {},
     "output_type": "execute_result"
    }
   ],
   "source": [
    "our_dataset.__getitem__(1)"
   ]
  },
  {
   "cell_type": "markdown",
   "metadata": {},
   "source": [
    "In order to get batches from the data, pytorch uses such an entity as a dataloader, which accepts a class inherited from `torch.utils.data.Dataset` as input. Let's look at an example now:"
   ]
  },
  {
   "cell_type": "code",
   "execution_count": 27,
   "metadata": {},
   "outputs": [],
   "source": [
    "dataloader = torch.utils.data.DataLoader(our_dataset, batch_size=4)"
   ]
  },
  {
   "cell_type": "code",
   "execution_count": 28,
   "metadata": {},
   "outputs": [
    {
     "name": "stdout",
     "output_type": "stream",
     "text": [
      "Sample:\n",
      "tensor([[0.8122, 0.8050, 0.6471, 0.5246, 0.6765],\n",
      "        [0.6823, 0.0323, 0.6258, 0.2011, 0.8104],\n",
      "        [0.1398, 0.4961, 0.6763, 0.1748, 0.5064],\n",
      "        [0.2779, 0.1858, 0.5872, 0.9506, 0.9546]])\n",
      "Target:\n",
      "tensor([0.4400, 0.0346, 0.4587, 0.1810], dtype=torch.float64)\n"
     ]
    }
   ],
   "source": [
    "batch = next(iter(dataloader))\n",
    "\n",
    "print(f\"Sample:\\n{batch['sample']}\")\n",
    "print(f\"Target:\\n{batch['target']}\")"
   ]
  },
  {
   "cell_type": "markdown",
   "metadata": {},
   "source": [
    "### 5. Build and apply simple fully connected nural network"
   ]
  },
  {
   "cell_type": "markdown",
   "metadata": {},
   "source": [
    "#### How to make a neural network"
   ]
  },
  {
   "cell_type": "markdown",
   "metadata": {},
   "source": [
    "\n",
    "In order to create neural networks in high-level pytorch, the `nn` module is used. The neural network must be inherited from the `nn.Module` class. An example of how it might look\n",
    "\n",
    "```\n",
    "class Model(nn.Module):\n",
    "    def __init__(self):\n",
    "        super(Model, self).__init__()\n",
    "        self.conv1 = nn.Conv2d(1, 20, 5)\n",
    "        self.conv2 = nn.Conv2d(20, 20, 5)\n",
    "\n",
    "    def forward(self, x):\n",
    "       x = F.relu(self.conv1(x))\n",
    "       return F.relu(self.conv2(x))\n",
    "```\n",
    "\n",
    "As we can see in this example, this class **must have a** method `forward`, which defines the direct passage of the neural network. Also from the class above you can see that the `nn` module contains the implementation of most of the layers, and the` nn.functional` module contains activation functions.\n",
    "\n",
    "There is one more way to create a neural network and let's analyze it in practice:"
   ]
  },
  {
   "cell_type": "code",
   "execution_count": 31,
   "metadata": {},
   "outputs": [],
   "source": [
    "from torch import nn\n",
    "\n",
    "model = nn.Sequential()                   # create an empty model to which we will add layers\n",
    "model.add_module(\"l1\", nn.Linear(5, 10))  # added a layer with 5 neurons at the input and 3 at the output\n",
    "model.add_module(\"l2\", nn.ReLU())         # added activation function\n",
    "model.add_module(\"l3\", nn.Linear(10, 1))  # added a layer with 3 neurons at the input and 5 at the output\n",
    "\n",
    "# other way to do the same\n",
    "another_model = nn.Sequential(\n",
    "    nn.Linear(5, 10),\n",
    "    nn.ReLU(),\n",
    "    nn.Linear(10, 1)\n",
    ")"
   ]
  },
  {
   "cell_type": "code",
   "execution_count": 32,
   "metadata": {},
   "outputs": [],
   "source": [
    "y_pred = model(batch['sample']) # making predictions"
   ]
  },
  {
   "cell_type": "markdown",
   "metadata": {},
   "source": [
    "#### How to write a training loop and track metrics\n",
    " \n",
    "Let's now collect data loading, create a model and train on the MNIST dataset that has already been created for us"
   ]
  },
  {
   "cell_type": "code",
   "execution_count": 33,
   "metadata": {},
   "outputs": [],
   "source": [
    "import torchvision\n",
    "\n",
    "# we use a ready-made class from torch to load data for training\n",
    "mnist_train = torchvision.datasets.MNIST(\n",
    "    \"./mnist/\", \n",
    "    train=True, \n",
    "    download=True, \n",
    "    transform=torchvision.transforms.ToTensor()\n",
    ") \n",
    "mnist_val = torchvision.datasets.MNIST(\n",
    "    \"./mnist/\",\n",
    "    train=False, \n",
    "    download=True,\n",
    "    transform=torchvision.transforms.ToTensor()\n",
    ")\n",
    "\n",
    "# since this is already a class inherited from Tdataset, it can be immediately wrapped in a dataloader\n",
    "train_dataloader = torch.utils.data.DataLoader(\n",
    "    mnist_train, \n",
    "    batch_size=4, \n",
    "    shuffle=True, \n",
    "    num_workers=1\n",
    ") \n",
    "\n",
    "val_dataloader = torch.utils.data.DataLoader(\n",
    "    mnist_val, \n",
    "    batch_size=4, \n",
    "    shuffle=True, \n",
    "    num_workers=1\n",
    ")"
   ]
  },
  {
   "cell_type": "code",
   "execution_count": 34,
   "metadata": {
    "scrolled": true
   },
   "outputs": [
    {
     "data": {
      "image/png": "[encoded data removed]",
      "text/plain": [
       "<Figure size 432x288 with 2 Axes>"
      ]
     },
     "metadata": {
      "needs_background": "light"
     },
     "output_type": "display_data"
    }
   ],
   "source": [
    "# let's look at what we are working with\n",
    "for i in [0, 1]:\n",
    "    plt.subplot(1, 2, i + 1)\n",
    "    plt.imshow(mnist_train[i][0].squeeze(0).numpy().reshape([28, 28]))\n",
    "    plt.title(str(mnist_train[i][1]))\n",
    "plt.show()"
   ]
  },
  {
   "cell_type": "code",
   "execution_count": 35,
   "metadata": {},
   "outputs": [],
   "source": [
    "model = nn.Sequential(\n",
    "    nn.Flatten(),             # turning a 28x28 image into a 784 vector\n",
    "    nn.Linear(28 * 28, 128),  # a linear layer that converts a vector of size 784 to a vector of size 128\n",
    "    nn.ReLU(),                # non-linearity\n",
    "    nn.Linear(128, 10),       # a linear layer that converts a vector of size 128 to a vector of size 10\n",
    ")\n",
    "\n",
    "# creating an optimizer that will update the weights of the model\n",
    "optimizer = torch.optim.SGD(model.parameters(), lr=0.05) "
   ]
  },
  {
   "cell_type": "markdown",
   "metadata": {},
   "source": [
    "The weights of the models are stored as matrices and look like this:"
   ]
  },
  {
   "cell_type": "code",
   "execution_count": 37,
   "metadata": {
    "scrolled": false
   },
   "outputs": [
    {
     "data": {
      "text/plain": [
       "[('1.weight',\n",
       "  Parameter containing:\n",
       "  tensor([[-0.0005, -0.0320,  0.0349,  ...,  0.0064, -0.0284, -0.0050],\n",
       "          [-0.0324,  0.0217, -0.0092,  ..., -0.0188, -0.0161,  0.0261],\n",
       "          [-0.0030, -0.0344, -0.0277,  ...,  0.0054, -0.0139,  0.0222],\n",
       "          ...,\n",
       "          [ 0.0055, -0.0081, -0.0155,  ..., -0.0166, -0.0147,  0.0026],\n",
       "          [ 0.0151, -0.0060,  0.0193,  ...,  0.0351,  0.0285,  0.0274],\n",
       "          [-0.0194,  0.0138,  0.0100,  ...,  0.0038,  0.0327, -0.0021]],\n",
       "         requires_grad=True)),\n",
       " ('1.bias',\n",
       "  Parameter containing:\n",
       "  tensor([-9.1284e-03, -1.5366e-02, -4.9692e-03, -5.3718e-03,  3.1384e-02,\n",
       "          -1.9117e-02, -9.4528e-03, -1.3960e-02, -2.7631e-02,  2.1393e-03,\n",
       "           2.9149e-02, -1.5695e-02, -6.6764e-03,  9.4840e-03,  2.3626e-02,\n",
       "          -1.3877e-02, -3.4773e-02,  1.9104e-04,  2.9787e-02,  3.4398e-02,\n",
       "           3.2741e-02,  8.2404e-04,  1.5208e-02,  9.0856e-03, -1.1801e-02,\n",
       "           1.0544e-02, -5.0654e-03, -1.4317e-02,  2.1319e-02, -1.5829e-02,\n",
       "           2.5360e-02, -1.2976e-02, -1.4434e-02, -3.0559e-02, -7.0318e-03,\n",
       "           1.7128e-02,  1.6391e-02,  1.5676e-03,  9.9939e-03,  2.3304e-02,\n",
       "          -2.0175e-02,  3.2054e-03, -2.0799e-02,  2.2423e-02,  3.0702e-02,\n",
       "           2.6549e-02, -3.5585e-02,  1.9523e-02,  3.4942e-02, -3.2775e-02,\n",
       "          -3.0142e-02,  1.6377e-02,  3.4371e-02, -1.1863e-02, -2.0036e-02,\n",
       "           1.4973e-02,  1.8132e-03,  9.5209e-03,  5.8948e-03,  2.9983e-02,\n",
       "           1.6523e-02,  4.5360e-03, -8.7435e-03,  2.6337e-03,  1.1228e-02,\n",
       "          -3.3174e-02,  1.4599e-03,  2.6303e-02, -2.5852e-02, -4.3317e-03,\n",
       "           3.2864e-02, -3.1755e-04,  9.3119e-05, -2.0605e-02, -1.1918e-02,\n",
       "          -4.7876e-03, -1.4598e-02, -2.3231e-02,  2.4989e-03, -2.9270e-02,\n",
       "           2.1309e-02, -1.3736e-02, -2.3353e-02, -3.2438e-02, -4.6440e-03,\n",
       "          -1.7915e-02, -2.3307e-02, -5.9747e-03,  1.0057e-02,  2.8407e-02,\n",
       "           3.4255e-02,  2.4681e-02, -2.5078e-02,  3.2179e-02,  2.6594e-02,\n",
       "           2.5495e-03, -1.8950e-02, -2.8113e-02, -1.6833e-02,  3.9224e-03,\n",
       "          -2.0637e-02, -2.4873e-02,  2.0473e-02, -2.2842e-02,  1.9496e-02,\n",
       "           2.0403e-02,  1.1683e-02,  2.4022e-02,  1.8557e-02,  1.9789e-02,\n",
       "          -9.3002e-03,  2.0787e-03, -1.9640e-02,  3.2514e-02, -2.6068e-02,\n",
       "           3.5485e-02, -2.9437e-02, -2.3151e-02,  9.7670e-03, -2.1647e-02,\n",
       "          -2.3842e-03, -1.3478e-02,  3.4963e-02, -1.0135e-02,  3.4357e-02,\n",
       "          -2.7501e-02,  3.3781e-02,  3.1233e-02], requires_grad=True)),\n",
       " ('3.weight',\n",
       "  Parameter containing:\n",
       "  tensor([[ 0.0701, -0.0817,  0.0497,  ...,  0.0842,  0.0521, -0.0782],\n",
       "          [-0.0780,  0.0245,  0.0445,  ...,  0.0305,  0.0079,  0.0863],\n",
       "          [ 0.0217,  0.0558, -0.0301,  ..., -0.0044, -0.0429, -0.0077],\n",
       "          ...,\n",
       "          [ 0.0865,  0.0679,  0.0474,  ...,  0.0145, -0.0336, -0.0721],\n",
       "          [ 0.0876, -0.0333,  0.0169,  ..., -0.0308,  0.0063,  0.0172],\n",
       "          [ 0.0419,  0.0391, -0.0232,  ..., -0.0271,  0.0164, -0.0118]],\n",
       "         requires_grad=True)),\n",
       " ('3.bias',\n",
       "  Parameter containing:\n",
       "  tensor([-0.0471, -0.0588,  0.0646, -0.0787, -0.0878,  0.0617,  0.0449,  0.0348,\n",
       "           0.0570,  0.0226], requires_grad=True))]"
      ]
     },
     "execution_count": 37,
     "metadata": {},
     "output_type": "execute_result"
    }
   ],
   "source": [
    "[x for x in model.named_parameters()] "
   ]
  },
  {
   "cell_type": "code",
   "execution_count": 49,
   "metadata": {
    "scrolled": false
   },
   "outputs": [
    {
     "data": {
      "application/vnd.jupyter.widget-view+json": {
       "model_id": "6e3c804c6d3c46c0ab7ffe4e4f8af2ef",
       "version_major": 2,
       "version_minor": 0
      },
      "text/plain": [
       "  0%|          | 0/15000 [00:00<?, ?it/s]"
      ]
     },
     "metadata": {},
     "output_type": "display_data"
    },
    {
     "data": {
      "application/vnd.jupyter.widget-view+json": {
       "model_id": "db9a44883206433fbab39f7d89630a9d",
       "version_major": 2,
       "version_minor": 0
      },
      "text/plain": [
       "  0%|          | 0/2500 [00:00<?, ?it/s]"
      ]
     },
     "metadata": {},
     "output_type": "display_data"
    },
    {
     "name": "stdout",
     "output_type": "stream",
     "text": [
      "Epoch: 0, loss: 0.055959202349185944, accuracy: 0.9824\n"
     ]
    }
   ],
   "source": [
    "from tqdm.notebook import tqdm\n",
    "\n",
    "# in total we will have 5 epochs (5 times in a row we will go through all the matches from the train)\n",
    "for epoch in range(1):\n",
    "    for x_train, y_train in tqdm(train_dataloader):    # we take the batch from the train loader\n",
    "        y_pred = model(x_train)                        # making predictions\n",
    "        loss = F.cross_entropy(y_pred, y_train)        # calculate loss\n",
    "        loss.backward()                                # calculate gradients\n",
    "        optimizer.step()                               # updete parametrs\n",
    "        optimizer.zero_grad()                          # drop gradients\n",
    "    \n",
    "    if epoch % 2 == 0:\n",
    "        val_loss = []                                  # loss storing list\n",
    "        val_accuracy = []\n",
    "        with torch.no_grad():                          # no need grads when testing\n",
    "            for x_val, y_val in tqdm(val_dataloader):  # we take the batch from the val loader\n",
    "                y_pred = model(x_val)                  # making predictions\n",
    "                loss = F.cross_entropy(y_pred, y_val)  # calculate loss\n",
    "                val_loss.append(loss.numpy())          # store\n",
    "                val_accuracy.extend((torch.argmax(y_pred, dim=-1) == y_val).numpy().tolist())\n",
    "        \n",
    "        # print metrics\n",
    "        print(f\"Epoch: {epoch}, loss: {np.mean(val_loss)}, accuracy: {np.mean(val_accuracy)}\")"
   ]
  },
  {
   "cell_type": "markdown",
   "metadata": {},
   "source": [
    "### 5. Introduction to conv nets [mini-presentation (continued)](https://docs.google.com/presentation/d/1cc9n11O6I_18bunhgw8qfuJ7kp2ITD9hfIZsp_8lpJA/edit?usp=sharing)"
   ]
  },
  {
   "cell_type": "markdown",
   "metadata": {},
   "source": [
    "### 6. Build and apply simple convolutional nural network"
   ]
  },
  {
   "cell_type": "code",
   "execution_count": 47,
   "metadata": {},
   "outputs": [],
   "source": [
    "model = nn.Sequential(            \n",
    "    nn.Conv2d(1, 128, 3),    # apply convolution with 128 filters size of 3\n",
    "    nn.ReLU(),               # non-linearity\n",
    "    nn.MaxPool2d(3),         # apply max pooling to image size reduction\n",
    "    \n",
    "    nn.Conv2d(128, 128, 3),  #\n",
    "    nn.ReLU(),               # doing exactly the same \n",
    "    nn.MaxPool2d(3),         #\n",
    "    \n",
    "    nn.Flatten(),             # converting into a 512 vector\n",
    "    nn.Linear(512, 10),       # a linear layer that converts a vector of size 512 to a vector of size 10\n",
    ")\n",
    "\n",
    "# creating an optimizer that will update the weights of the model\n",
    "optimizer = torch.optim.SGD(model.parameters(), lr=0.05) "
   ]
  },
  {
   "cell_type": "code",
   "execution_count": 50,
   "metadata": {},
   "outputs": [
    {
     "data": {
      "application/vnd.jupyter.widget-view+json": {
       "model_id": "a3b435a6ba434f27b43ae3e6ecdb0bda",
       "version_major": 2,
       "version_minor": 0
      },
      "text/plain": [
       "  0%|          | 0/15000 [00:00<?, ?it/s]"
      ]
     },
     "metadata": {},
     "output_type": "display_data"
    },
    {
     "data": {
      "application/vnd.jupyter.widget-view+json": {
       "model_id": "29b1ab807ab0404889a3ef5e2b29968c",
       "version_major": 2,
       "version_minor": 0
      },
      "text/plain": [
       "  0%|          | 0/2500 [00:00<?, ?it/s]"
      ]
     },
     "metadata": {},
     "output_type": "display_data"
    },
    {
     "name": "stdout",
     "output_type": "stream",
     "text": [
      "Epoch: 0, loss: 0.041891276836395264, accuracy: 0.9871\n"
     ]
    }
   ],
   "source": [
    "from tqdm.notebook import tqdm\n",
    "\n",
    "# in total we will have 5 epochs (5 times in a row we will go through all the matches from the train)\n",
    "for epoch in range(1):\n",
    "    for x_train, y_train in tqdm(train_dataloader):    # we take the batch from the train loader\n",
    "        y_pred = model(x_train)                        # making predictions\n",
    "        loss = F.cross_entropy(y_pred, y_train)        # calculate loss\n",
    "        loss.backward()                                # calculate gradients\n",
    "        optimizer.step()                               # updete parametrs\n",
    "        optimizer.zero_grad()                          # drop gradients\n",
    "    \n",
    "    if epoch % 2 == 0:\n",
    "        val_loss = []                                  # loss storing list\n",
    "        val_accuracy = []\n",
    "        with torch.no_grad():                          # no need grads when testing\n",
    "            for x_val, y_val in tqdm(val_dataloader):  # we take the batch from the val loader\n",
    "                y_pred = model(x_val)                  # making predictions\n",
    "                loss = F.cross_entropy(y_pred, y_val)  # calculate loss\n",
    "                val_loss.append(loss.numpy())          # store\n",
    "                val_accuracy.extend((torch.argmax(y_pred, dim=-1) == y_val).numpy().tolist())\n",
    "        \n",
    "        # print metrics\n",
    "        print(f\"Epoch: {epoch}, loss: {np.mean(val_loss)}, accuracy: {np.mean(val_accuracy)}\")"
   ]
  },
  {
   "cell_type": "markdown",
   "metadata": {},
   "source": [
    "### 7. Discuss some other applications of DL"
   ]
  },
  {
   "cell_type": "code",
   "execution_count": null,
   "metadata": {},
   "outputs": [],
   "source": []
  }
 ],
 "metadata": {
  "kernelspec": {
   "display_name": "Python 3",
   "language": "python",
   "name": "python3"
  },
  "language_info": {
   "codemirror_mode": {
    "name": "ipython",
    "version": 3
   },
   "file_extension": ".py",
   "mimetype": "text/x-python",
   "name": "python",
   "nbconvert_exporter": "python",
   "pygments_lexer": "ipython3",
   "version": "3.6.9"
  }
 },
 "nbformat": 4,
 "nbformat_minor": 4
}
